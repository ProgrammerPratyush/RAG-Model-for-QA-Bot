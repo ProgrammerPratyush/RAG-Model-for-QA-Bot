{
  "nbformat": 4,
  "nbformat_minor": 0,
  "metadata": {
    "colab": {
      "provenance": []
    },
    "kernelspec": {
      "name": "python3",
      "display_name": "Python 3"
    },
    "language_info": {
      "name": "python"
    }
  },
  "cells": [
    {
      "cell_type": "code",
      "execution_count": 1,
      "metadata": {
        "id": "7lmIHYXrTRys"
      },
      "outputs": [],
      "source": [
        "%%capture --no-stderr\n",
        "%pip install --upgrade --quiet langchain langchain-community langchainhub langchain-chroma beautifulsoup4\n",
        "!pip install -q langchain_openai pdfplumber"
      ]
    },
    {
      "cell_type": "code",
      "source": [
        "import os\n",
        "os.environ[\"LANGCHAIN_TRACING_V2\"] = \"true\"\n",
        "os.environ[\"LANGCHAIN_API_KEY\"] = \"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\"\n",
        "os.environ[\"LANGCHAIN_ENDPOINT\"] = \"https://api.smith.langchain.com\"\n",
        "os.environ[\"LANGCHAIN_PROJECT\"] = \"RAG_With_Memory\""
      ],
      "metadata": {
        "id": "IkxhNKezU1F0"
      },
      "execution_count": 2,
      "outputs": []
    },
    {
      "cell_type": "code",
      "source": [
        "from google.colab import auth\n",
        "import os\n",
        "\n",
        "OPENAI_API_KEY = \"My api key\"\n",
        "os.environ[\"OPENAI_API_KEY\"] = OPENAI_API_KEY\n"
      ],
      "metadata": {
        "id": "LW1k3bJIW8jr"
      },
      "execution_count": 3,
      "outputs": []
    },
    {
      "cell_type": "code",
      "source": [
        "import warnings\n",
        "warnings.filterwarnings('ignore')"
      ],
      "metadata": {
        "id": "m_xIONXAXyrg"
      },
      "execution_count": 4,
      "outputs": []
    },
    {
      "cell_type": "code",
      "source": [
        "from langchain_openai import OpenAIEmbeddings, ChatOpenAI"
      ],
      "metadata": {
        "id": "zTrPk3Z8X45Z"
      },
      "execution_count": 5,
      "outputs": []
    },
    {
      "cell_type": "code",
      "source": [
        "# Initialize OpenAI embeddings and model\n",
        "openai_embeddings = OpenAIEmbeddings()\n",
        "model = ChatOpenAI(model=\"gpt-4o-mini\", convert_system_message_to_human=True)"
      ],
      "metadata": {
        "id": "_XzvMAXHX98o"
      },
      "execution_count": 6,
      "outputs": []
    },
    {
      "cell_type": "code",
      "source": [
        "from langchain_openai import ChatOpenAI\n",
        "from langchain_openai import OpenAIEmbeddings\n",
        "\n",
        "# Initialize OpenAI model and embeddings\n",
        "openai_embeddings = OpenAIEmbeddings()\n",
        "model = ChatOpenAI(model=\"gpt-4o-mini\")  # Use the correct model name for OpenAI\n",
        "\n",
        "# Test the model\n",
        "response = model(\"hi\")\n",
        "print(response.content) # Extract the response content\n"
      ],
      "metadata": {
        "colab": {
          "base_uri": "https://localhost:8080/"
        },
        "id": "2d-kw89LYMqC",
        "outputId": "06383088-8631-48ad-8a31-a3f4ccf486ad"
      },
      "execution_count": 8,
      "outputs": [
        {
          "output_type": "stream",
          "name": "stdout",
          "text": [
            "Hello! How can I assist you today?\n"
          ]
        }
      ]
    },
    {
      "cell_type": "code",
      "source": [
        "import os\n",
        "import pdfplumber\n",
        "from langchain_openai import OpenAIEmbeddings, ChatOpenAI\n",
        "from langchain.schema import Document\n",
        "from langchain.chains import create_retrieval_chain\n",
        "from langchain.chains.combine_documents import create_stuff_documents_chain\n",
        "from langchain_chroma import Chroma\n",
        "from langchain_community.document_loaders import WebBaseLoader\n",
        "from langchain_core.prompts import ChatPromptTemplate\n",
        "from langchain_text_splitters import RecursiveCharacterTextSplitter\n",
        "from langchain_core.prompts import MessagesPlaceholder\n",
        "from langchain_core.messages import HumanMessage, AIMessage"
      ],
      "metadata": {
        "id": "V0huU3a1fZcq",
        "colab": {
          "base_uri": "https://localhost:8080/"
        },
        "outputId": "95af2feb-4efe-4bdc-9901-c1d91a20c781"
      },
      "execution_count": 9,
      "outputs": [
        {
          "output_type": "stream",
          "name": "stderr",
          "text": [
            "WARNING:langchain_community.utils.user_agent:USER_AGENT environment variable not set, consider setting it to identify your requests.\n"
          ]
        }
      ]
    },
    {
      "cell_type": "code",
      "source": [
        "# PDF loader setup\n",
        "def load_documents(pdf_path=None):\n",
        "    # Load PDF documents if path is provided\n",
        "    pdf_docs = []\n",
        "    if pdf_path:\n",
        "        with pdfplumber.open(pdf_path) as pdf:\n",
        "            for page in pdf.pages:\n",
        "                text = page.extract_text()\n",
        "                if text:\n",
        "                    pdf_docs.append(Document(page_content=text, metadata={\"source\": pdf_path}))\n",
        "\n",
        "    # return web_docs + pdf_docs\n",
        "    return pdf_docs"
      ],
      "metadata": {
        "id": "6ckrGQD-fmQk"
      },
      "execution_count": 19,
      "outputs": []
    },
    {
      "cell_type": "code",
      "source": [
        "\n",
        "doc = load_documents(pdf_path=\"/content/Multiple crops in one.pdf\")  # Update path to your PDF"
      ],
      "metadata": {
        "id": "7sB6VMQPfvqN"
      },
      "execution_count": 20,
      "outputs": []
    },
    {
      "cell_type": "code",
      "source": [
        "text_splitter = RecursiveCharacterTextSplitter(chunk_size=1000, chunk_overlap=200)\n",
        "splits = text_splitter.split_documents(doc)"
      ],
      "metadata": {
        "id": "qwX7B9yil-2h"
      },
      "execution_count": 21,
      "outputs": []
    },
    {
      "cell_type": "code",
      "source": [
        "vectorstore = Chroma.from_documents(documents=splits, embedding=openai_embeddings)\n",
        "retriever = vectorstore.as_retriever()\n"
      ],
      "metadata": {
        "id": "zoWTMVkNhxbL"
      },
      "execution_count": 22,
      "outputs": []
    },
    {
      "cell_type": "code",
      "source": [
        "system_prompt = (\n",
        "    \"You are an assistant for question-answering tasks. \"\n",
        "    \"Use the following pieces of retrieved context to answer the question. \"\n",
        "    \"If you don't know the answer, say that you don't know. \"\n",
        "    \"Use three sentences maximum and keep the answer concise.\"\n",
        "    \"\\n\\n\"\n",
        "    \"{context}\"\n",
        ")"
      ],
      "metadata": {
        "id": "BLq8z8bCh02W"
      },
      "execution_count": 23,
      "outputs": []
    },
    {
      "cell_type": "code",
      "source": [
        "chat_prompt = ChatPromptTemplate.from_messages(\n",
        "    [\n",
        "        (\"system\", system_prompt),\n",
        "        (\"human\", \"{input}\"),\n",
        "    ]\n",
        ")"
      ],
      "metadata": {
        "id": "ajgQSArwiArZ"
      },
      "execution_count": 24,
      "outputs": []
    },
    {
      "cell_type": "code",
      "source": [
        "question_answering_chain = create_stuff_documents_chain(model, chat_prompt)"
      ],
      "metadata": {
        "id": "lzcvXJLPiCOZ"
      },
      "execution_count": 25,
      "outputs": []
    },
    {
      "cell_type": "code",
      "source": [
        "rag_chain = create_retrieval_chain(retriever, question_answering_chain)"
      ],
      "metadata": {
        "id": "-6hTYaTribaL"
      },
      "execution_count": 26,
      "outputs": []
    },
    {
      "cell_type": "code",
      "source": [
        "def get_answer(query_text, retriever, question_answering_chain):\n",
        "    # Retrieve relevant documents\n",
        "    results = retriever.get_relevant_documents(query_text)\n",
        "\n",
        "    if len(results) == 0:\n",
        "        # No relevant results in document by user\n",
        "        return \"Unable to find the answer in the document you provided.\", []\n",
        "\n",
        "    # Extract relevant context from documents\n",
        "    context_text = \"\\n\\n---\\n\\n\".join([doc.page_content for doc in results])\n",
        "    prompt_template = ChatPromptTemplate.from_template(system_prompt)\n",
        "    prompt = prompt_template.format(context=context_text, question=query_text)\n",
        "\n",
        "    # Use OpenAI for the model response\n",
        "    response = model.predict(prompt)\n",
        "\n",
        "    # Debugging: Print the response to see its structure\n",
        "    print(\"Model Response:\", response)\n",
        "\n",
        "    # If the response is a string, we can return it directly\n",
        "    if isinstance(response, str):\n",
        "        response_text = response\n",
        "    else:\n",
        "        # Otherwise, extract content assuming it's a dictionary-like object\n",
        "        response_text = response[\"choices\"][0][\"message\"][\"content\"]\n",
        "\n",
        "    # Fetch metadata to show sources of the answer\n",
        "    sources = [doc.metadata.get(\"source\", None) for doc in results]\n",
        "    return response_text, sources\n"
      ],
      "metadata": {
        "id": "mjdo457EfUnA"
      },
      "execution_count": 27,
      "outputs": []
    },
    {
      "cell_type": "code",
      "source": [
        "# Example usage\n",
        "response_text, sources = get_answer(\"what are managing tips for Soybean?\", retriever, question_answering_chain)\n",
        "print(\"Answer:\", response_text)\n",
        "print(\"Sources:\", sources)"
      ],
      "metadata": {
        "colab": {
          "base_uri": "https://localhost:8080/"
        },
        "id": "AHj-lsJWfZnH",
        "outputId": "3783b192-6e03-4bfe-968f-48d49687d1d3"
      },
      "execution_count": 28,
      "outputs": [
        {
          "output_type": "stream",
          "name": "stderr",
          "text": [
            "<ipython-input-27-71d95a124953>:3: LangChainDeprecationWarning: The method `BaseRetriever.get_relevant_documents` was deprecated in langchain-core 0.1.46 and will be removed in 1.0. Use :meth:`~invoke` instead.\n",
            "  results = retriever.get_relevant_documents(query_text)\n",
            "<ipython-input-27-71d95a124953>:15: LangChainDeprecationWarning: The method `BaseChatModel.predict` was deprecated in langchain-core 0.1.7 and will be removed in 1.0. Use :meth:`~invoke` instead.\n",
            "  response = model.predict(prompt)\n"
          ]
        },
        {
          "output_type": "stream",
          "name": "stdout",
          "text": [
            "Model Response: For effective control of soybean cyst nematode, avoid planting the same variety in the same field twice and rotate with varieties that offer different sources of resistance. This practice is rated as a highly effective control measure. Additionally, managing soil and seed quality is crucial for overall disease resistance in soybean crops.\n",
            "Answer: For effective control of soybean cyst nematode, avoid planting the same variety in the same field twice and rotate with varieties that offer different sources of resistance. This practice is rated as a highly effective control measure. Additionally, managing soil and seed quality is crucial for overall disease resistance in soybean crops.\n",
            "Sources: ['/content/Multiple crops in one.pdf', '/content/Multiple crops in one.pdf', '/content/Multiple crops in one.pdf', '/content/Multiple crops in one.pdf']\n"
          ]
        }
      ]
    },
    {
      "cell_type": "code",
      "source": [
        "# Example usage\n",
        "response_text, sources = get_answer(\"what are corn managing tips?\", retriever, question_answering_chain)\n",
        "print(\"Answer:\", response_text)\n",
        "print(\"Sources:\", sources)"
      ],
      "metadata": {
        "colab": {
          "base_uri": "https://localhost:8080/"
        },
        "id": "2LjwUScTgyuY",
        "outputId": "6932b7f4-b4b2-4888-9b90-f1d810bdede2"
      },
      "execution_count": 29,
      "outputs": [
        {
          "output_type": "stream",
          "name": "stdout",
          "text": [
            "Model Response: To manage corn diseases effectively, an integrated approach is necessary, including the use of disease-resistant hybrids, crop rotations, proper tillage, balanced fertility, and pest control. Weekly inspections for signs of storage molds and maintaining appropriate moisture levels are also crucial for stored corn. Applying fungicides and other cultural practices can help limit disease and yield losses in corn production.\n",
            "Answer: To manage corn diseases effectively, an integrated approach is necessary, including the use of disease-resistant hybrids, crop rotations, proper tillage, balanced fertility, and pest control. Weekly inspections for signs of storage molds and maintaining appropriate moisture levels are also crucial for stored corn. Applying fungicides and other cultural practices can help limit disease and yield losses in corn production.\n",
            "Sources: ['/content/Multiple crops in one.pdf', '/content/Multiple crops in one.pdf', '/content/Multiple crops in one.pdf', '/content/Multiple crops in one.pdf']\n"
          ]
        }
      ]
    },
    {
      "cell_type": "code",
      "source": [
        "# Example usage\n",
        "response_text, sources = get_answer(\"how to manage fertility in Wheat crop management?\", retriever, question_answering_chain)\n",
        "print(\"Answer:\", response_text)\n",
        "print(\"Sources:\", sources)"
      ],
      "metadata": {
        "id": "rrUvJVVWjniU",
        "outputId": "b8fc72d1-1932-4a02-ac66-ed367bc492ac",
        "colab": {
          "base_uri": "https://localhost:8080/"
        }
      },
      "execution_count": 30,
      "outputs": [
        {
          "output_type": "stream",
          "name": "stdout",
          "text": [
            "Model Response: To manage wheat diseases effectively, it is crucial to integrate resistant varieties, high-quality seed, and appropriate fungicide treatments. Soil health and fertility also play a significant role in reducing disease severity, especially for diseases like Fusarium head blight and powdery mildew. Additionally, timely planting and crop rotation are essential for controlling diseases and preventing their recurrence.\n",
            "Answer: To manage wheat diseases effectively, it is crucial to integrate resistant varieties, high-quality seed, and appropriate fungicide treatments. Soil health and fertility also play a significant role in reducing disease severity, especially for diseases like Fusarium head blight and powdery mildew. Additionally, timely planting and crop rotation are essential for controlling diseases and preventing their recurrence.\n",
            "Sources: ['/content/Multiple crops in one.pdf', '/content/Multiple crops in one.pdf', '/content/Multiple crops in one.pdf', '/content/Multiple crops in one.pdf']\n"
          ]
        }
      ]
    },
    {
      "cell_type": "code",
      "source": [
        "# Example usage\n",
        "response_text, sources = get_answer(\"what stewart's bacterial disease in corn?\", retriever, question_answering_chain)\n",
        "print(\"Answer:\", response_text)\n",
        "print(\"Sources:\", sources)"
      ],
      "metadata": {
        "colab": {
          "base_uri": "https://localhost:8080/"
        },
        "id": "hpE1rEFZaECR",
        "outputId": "bc221911-e118-406c-f7f4-fb4416d220c8"
      },
      "execution_count": 37,
      "outputs": [
        {
          "output_type": "stream",
          "name": "stdout",
          "text": [
            "Model Response: To manage corn diseases effectively in Illinois, an integrated approach is essential, incorporating disease-resistant hybrids, crop rotations, and balanced fertility. Specific practices can vary in effectiveness, with measures like using high-quality seeds and controlling pests being crucial. For optimal outcomes, refer to Table 14.3 for a detailed list of diseases and control measures.\n",
            "Answer: To manage corn diseases effectively in Illinois, an integrated approach is essential, incorporating disease-resistant hybrids, crop rotations, and balanced fertility. Specific practices can vary in effectiveness, with measures like using high-quality seeds and controlling pests being crucial. For optimal outcomes, refer to Table 14.3 for a detailed list of diseases and control measures.\n",
            "Sources: ['/content/Multiple crops in one.pdf', '/content/Multiple crops in one.pdf', '/content/Multiple crops in one.pdf', '/content/Multiple crops in one.pdf']\n"
          ]
        }
      ]
    },
    {
      "cell_type": "code",
      "source": [
        "response = rag_chain.invoke({\"input\": \"what are fungicides?\"})\n",
        "print(response[\"answer\"])"
      ],
      "metadata": {
        "id": "r1wJm9vfiiUS",
        "colab": {
          "base_uri": "https://localhost:8080/"
        },
        "outputId": "e77b761c-9ef5-4295-ab27-32a62561d9f6"
      },
      "execution_count": 31,
      "outputs": [
        {
          "output_type": "stream",
          "name": "stdout",
          "text": [
            "Fungicides are chemicals used to prevent or control fungal diseases in plants. They can be classified into contact fungicides, which remain on the plant's surface, and systemic fungicides, which are absorbed into the plant tissue and can move within it. Some fungicides have preventative activity, while others may still be effective after the fungal pathogen has invaded the plant.\n"
          ]
        }
      ]
    },
    {
      "cell_type": "code",
      "source": [
        "from langchain.chains import create_history_aware_retriever\n",
        "\n",
        "retriever_prompt = (\n",
        "    \"Given a chat history and the latest user question which might reference context in the chat history, \"\n",
        "    \"formulate a standalone question which can be understood without the chat history. \"\n",
        "    \"Do NOT answer the question, just reformulate it if needed and otherwise return it as is.\"\n",
        ")"
      ],
      "metadata": {
        "id": "PHQphVZDij7U"
      },
      "execution_count": 38,
      "outputs": []
    },
    {
      "cell_type": "code",
      "source": [
        "contextualize_q_prompt  = ChatPromptTemplate.from_messages(\n",
        "    [\n",
        "        (\"system\", retriever_prompt),\n",
        "        MessagesPlaceholder(variable_name=\"chat_history\"),\n",
        "        (\"human\", \"{input}\"),\n",
        "    ]\n",
        ")"
      ],
      "metadata": {
        "id": "jzsHokJfim_G"
      },
      "execution_count": 39,
      "outputs": []
    },
    {
      "cell_type": "code",
      "source": [
        "history_aware_retriever = create_history_aware_retriever(model, retriever, contextualize_q_prompt)"
      ],
      "metadata": {
        "id": "1ZzJbycWivnm"
      },
      "execution_count": 40,
      "outputs": []
    },
    {
      "cell_type": "code",
      "source": [
        "qa_prompt = ChatPromptTemplate.from_messages(\n",
        "    [\n",
        "        (\"system\", system_prompt),\n",
        "        MessagesPlaceholder(\"chat_history\"),\n",
        "        (\"human\", \"{input}\"),\n",
        "    ]\n",
        ")"
      ],
      "metadata": {
        "id": "T1jzJU14jEkB"
      },
      "execution_count": 41,
      "outputs": []
    },
    {
      "cell_type": "code",
      "source": [
        "question_answer_chain = create_stuff_documents_chain(model, qa_prompt)\n"
      ],
      "metadata": {
        "id": "7SzWJvg1jHmj"
      },
      "execution_count": 42,
      "outputs": []
    },
    {
      "cell_type": "code",
      "source": [
        "rag_chain = create_retrieval_chain(history_aware_retriever, question_answer_chain)\n"
      ],
      "metadata": {
        "id": "I9r-hETIjK-C"
      },
      "execution_count": 43,
      "outputs": []
    },
    {
      "cell_type": "code",
      "source": [
        "chat_history = []"
      ],
      "metadata": {
        "id": "tUwViA1fjN_w"
      },
      "execution_count": 44,
      "outputs": []
    },
    {
      "cell_type": "code",
      "source": [
        "question1 = \"what is Alfalfa crop?\""
      ],
      "metadata": {
        "id": "Tonbk7s7jRQ1"
      },
      "execution_count": 45,
      "outputs": []
    },
    {
      "cell_type": "code",
      "source": [
        "message1 = rag_chain.invoke({\"input\": question1, \"chat_history\": chat_history})\n",
        "print(message1[\"answer\"])\n"
      ],
      "metadata": {
        "id": "U0u86HeBjWsg",
        "colab": {
          "base_uri": "https://localhost:8080/"
        },
        "outputId": "954b07ae-7bfa-4eee-da94-7a6034e89ead"
      },
      "execution_count": 46,
      "outputs": [
        {
          "output_type": "stream",
          "name": "stdout",
          "text": [
            "Alfalfa is a perennial flowering plant in the legume family, commonly grown as a forage crop for livestock. It is valued for its high protein content and nutritional quality, making it an excellent feed for dairy and beef cattle, sheep, and horses. Alfalfa is also known for its ability to improve soil health through nitrogen fixation.\n"
          ]
        }
      ]
    },
    {
      "cell_type": "code",
      "source": [
        "chat_history.extend(\n",
        "    [\n",
        "        HumanMessage(content=question1),\n",
        "        AIMessage(content=message1[\"answer\"]),\n",
        "    ]\n",
        ")\n"
      ],
      "metadata": {
        "id": "TRVXa7-UjaN6"
      },
      "execution_count": 47,
      "outputs": []
    },
    {
      "cell_type": "code",
      "source": [
        "chat_history"
      ],
      "metadata": {
        "id": "7O-9HkgZj5vt",
        "colab": {
          "base_uri": "https://localhost:8080/"
        },
        "outputId": "f3d7be78-1fa7-49ff-bd5a-01fd2c6c1d9d"
      },
      "execution_count": 48,
      "outputs": [
        {
          "output_type": "execute_result",
          "data": {
            "text/plain": [
              "[HumanMessage(content='what is Alfalfa crop?', additional_kwargs={}, response_metadata={}),\n",
              " AIMessage(content='Alfalfa is a perennial flowering plant in the legume family, commonly grown as a forage crop for livestock. It is valued for its high protein content and nutritional quality, making it an excellent feed for dairy and beef cattle, sheep, and horses. Alfalfa is also known for its ability to improve soil health through nitrogen fixation.', additional_kwargs={}, response_metadata={})]"
            ]
          },
          "metadata": {},
          "execution_count": 48
        }
      ]
    },
    {
      "cell_type": "code",
      "source": [
        "second_question = \"What are common ways of doing it?\"\n",
        "message2 = rag_chain.invoke({\"input\": second_question, \"chat_history\": chat_history})\n"
      ],
      "metadata": {
        "id": "u8Ge0ECVj9q1"
      },
      "execution_count": 49,
      "outputs": []
    },
    {
      "cell_type": "code",
      "source": [
        "print(message2[\"answer\"])\n"
      ],
      "metadata": {
        "id": "JzaGy_yTkAgH",
        "colab": {
          "base_uri": "https://localhost:8080/"
        },
        "outputId": "4ccce0b0-2c3c-4966-9bc7-5adf05e05ac9"
      },
      "execution_count": 50,
      "outputs": [
        {
          "output_type": "stream",
          "name": "stdout",
          "text": [
            "Common ways to manage alfalfa crops include using crop rotation with nonlegumes, selecting disease-resistant varieties, applying proper fertilization, and controlling insects and weeds. Timely cutting and avoiding overgrazing during critical growth periods are also important practices. Additionally, integrating the use of fungicides and maintaining soil health through proper pH and drainage are effective management strategies.\n"
          ]
        }
      ]
    },
    {
      "cell_type": "code",
      "source": [
        "from langchain_community.chat_message_histories import ChatMessageHistory\n",
        "from langchain_core.chat_history import BaseChatMessageHistory\n",
        "from langchain_core.runnables.history import RunnableWithMessageHistory"
      ],
      "metadata": {
        "id": "XyubjCV0kDFn"
      },
      "execution_count": 51,
      "outputs": []
    },
    {
      "cell_type": "code",
      "source": [
        "store = {}"
      ],
      "metadata": {
        "id": "rYtvyrPMkFqf"
      },
      "execution_count": 52,
      "outputs": []
    },
    {
      "cell_type": "code",
      "source": [
        "def get_session_history(session_id: str) -> BaseChatMessageHistory:\n",
        "    if session_id not in store:\n",
        "        store[session_id] = ChatMessageHistory()\n",
        "    return store[session_id]"
      ],
      "metadata": {
        "id": "5HZtZZFCkI_v"
      },
      "execution_count": 53,
      "outputs": []
    },
    {
      "cell_type": "code",
      "source": [
        "conversational_rag_chain = RunnableWithMessageHistory(\n",
        "    rag_chain,\n",
        "    get_session_history,\n",
        "    input_messages_key=\"input\",\n",
        "    history_messages_key=\"chat_history\",\n",
        "    output_messages_key=\"answer\",\n",
        ")\n"
      ],
      "metadata": {
        "id": "rt67dhmVkL6n"
      },
      "execution_count": 54,
      "outputs": []
    },
    {
      "cell_type": "code",
      "source": [
        "conversational_rag_chain.invoke(\n",
        "    {\"input\": \"What is fungicide resistance management?\"},\n",
        "    config={\n",
        "        \"configurable\": {\"session_id\": \"abc123\"}\n",
        "    },\n",
        ")[\"answer\"]"
      ],
      "metadata": {
        "colab": {
          "base_uri": "https://localhost:8080/",
          "height": 72
        },
        "id": "40jQ0L5jkOg3",
        "outputId": "52241ebf-f9c1-4880-f65d-cb082fb43e6d"
      },
      "execution_count": 56,
      "outputs": [
        {
          "output_type": "execute_result",
          "data": {
            "text/plain": [
              "'Fungicide resistance management involves strategies and practices aimed at preventing or reducing the development of resistance in fungal pathogens to fungicides. This includes applying fungicides only when necessary, using fungicides with different modes of action, following label recommendations, and integrating cultural practices such as growing resistant varieties and using disease-free seeds. The goal is to prolong the effectiveness of fungicides and minimize the selection pressure on pathogen populations.'"
            ],
            "application/vnd.google.colaboratory.intrinsic+json": {
              "type": "string"
            }
          },
          "metadata": {},
          "execution_count": 56
        }
      ]
    },
    {
      "cell_type": "code",
      "source": [
        "store"
      ],
      "metadata": {
        "colab": {
          "base_uri": "https://localhost:8080/"
        },
        "id": "QWYe9hPjkQzy",
        "outputId": "94e0bffd-5f55-4d94-c8ac-0da857261dcd"
      },
      "execution_count": 57,
      "outputs": [
        {
          "output_type": "execute_result",
          "data": {
            "text/plain": [
              "{'abc123': InMemoryChatMessageHistory(messages=[HumanMessage(content='What is Task Decomposition?', additional_kwargs={}, response_metadata={}), AIMessage(content='Task decomposition is the process of breaking down a complex task into smaller, more manageable sub-tasks or components. This approach helps to simplify the execution and understanding of the overall task, making it easier to tackle each part systematically. It is often used in project management, programming, and problem-solving to enhance efficiency and clarity.', additional_kwargs={}, response_metadata={}), HumanMessage(content='What is fungicide resistance management?', additional_kwargs={}, response_metadata={}), AIMessage(content='Fungicide resistance management involves strategies and practices aimed at preventing or reducing the development of resistance in fungal pathogens to fungicides. This includes applying fungicides only when necessary, using fungicides with different modes of action, following label recommendations, and integrating cultural practices such as growing resistant varieties and using disease-free seeds. The goal is to prolong the effectiveness of fungicides and minimize the selection pressure on pathogen populations.', additional_kwargs={}, response_metadata={})])}"
            ]
          },
          "metadata": {},
          "execution_count": 57
        }
      ]
    },
    {
      "cell_type": "code",
      "source": [
        "conversational_rag_chain.invoke(\n",
        "    {\"input\": \"What are steps in fungicide resistance management?\"},\n",
        "    config={\"configurable\": {\"session_id\": \"abc123\"}},\n",
        ")[\"answer\"]\n"
      ],
      "metadata": {
        "id": "LTkfHIxPkV3h",
        "colab": {
          "base_uri": "https://localhost:8080/",
          "height": 72
        },
        "outputId": "9d7a51e4-95b5-4bea-b4cf-d98709e29062"
      },
      "execution_count": 58,
      "outputs": [
        {
          "output_type": "execute_result",
          "data": {
            "text/plain": [
              "'The steps in fungicide resistance management include: \\n\\n1. Apply fungicides only when necessary, based on field scouting and disease risk factors.\\n2. Use fungicides with different modes of action and rotate them if multiple applications are needed in a season.\\n3. Grow resistant plant varieties, plant high-quality disease-free seeds, and provide a well-drained seedbed.\\n4. Follow label recommendations regarding application rates and restrictions.'"
            ],
            "application/vnd.google.colaboratory.intrinsic+json": {
              "type": "string"
            }
          },
          "metadata": {},
          "execution_count": 58
        }
      ]
    },
    {
      "cell_type": "code",
      "source": [
        "for message in store[\"abc123\"].messages:\n",
        "    if isinstance(message, AIMessage):\n",
        "        prefix = \"AI\"\n",
        "    else:\n",
        "        prefix = \"User\"\n",
        "\n",
        "    print(f\"{prefix}: {message.content}\\n\")"
      ],
      "metadata": {
        "id": "fP99Z_CnkYcW",
        "colab": {
          "base_uri": "https://localhost:8080/"
        },
        "outputId": "0bb4d837-e70d-4c5a-fb9a-ea5eaa2609a5"
      },
      "execution_count": 59,
      "outputs": [
        {
          "output_type": "stream",
          "name": "stdout",
          "text": [
            "User: What is Task Decomposition?\n",
            "\n",
            "AI: Task decomposition is the process of breaking down a complex task into smaller, more manageable sub-tasks or components. This approach helps to simplify the execution and understanding of the overall task, making it easier to tackle each part systematically. It is often used in project management, programming, and problem-solving to enhance efficiency and clarity.\n",
            "\n",
            "User: What is fungicide resistance management?\n",
            "\n",
            "AI: Fungicide resistance management involves strategies and practices aimed at preventing or reducing the development of resistance in fungal pathogens to fungicides. This includes applying fungicides only when necessary, using fungicides with different modes of action, following label recommendations, and integrating cultural practices such as growing resistant varieties and using disease-free seeds. The goal is to prolong the effectiveness of fungicides and minimize the selection pressure on pathogen populations.\n",
            "\n",
            "User: What are steps in fungicide resistance management?\n",
            "\n",
            "AI: The steps in fungicide resistance management include: \n",
            "\n",
            "1. Apply fungicides only when necessary, based on field scouting and disease risk factors.\n",
            "2. Use fungicides with different modes of action and rotate them if multiple applications are needed in a season.\n",
            "3. Grow resistant plant varieties, plant high-quality disease-free seeds, and provide a well-drained seedbed.\n",
            "4. Follow label recommendations regarding application rates and restrictions.\n",
            "\n"
          ]
        }
      ]
    },
    {
      "cell_type": "code",
      "source": [
        "conversational_rag_chain.invoke(\n",
        "    {\"input\": \"What is principle of plant disease control?\"},\n",
        "    config={\"configurable\": {\"session_id\": \"abc123\"}},\n",
        ")[\"answer\"]"
      ],
      "metadata": {
        "id": "puGIO-zKkaDL",
        "colab": {
          "base_uri": "https://localhost:8080/",
          "height": 72
        },
        "outputId": "3a416751-b4bf-4abf-e473-b85a1516194f"
      },
      "execution_count": 61,
      "outputs": [
        {
          "output_type": "execute_result",
          "data": {
            "text/plain": [
              "'The principles of plant disease control involve strategies designed to prevent or minimize the impact of diseases on crops. Key principles include accurate diagnosis of the disease, using resistant plant varieties, implementing cultural practices (such as crop rotation and proper sanitation), and applying chemical controls like fungicides when necessary. Integrated Pest Management (IPM) is often emphasized, combining multiple approaches to achieve effective disease management while reducing negative environmental impacts.'"
            ],
            "application/vnd.google.colaboratory.intrinsic+json": {
              "type": "string"
            }
          },
          "metadata": {},
          "execution_count": 61
        }
      ]
    },
    {
      "cell_type": "code",
      "source": [
        "store\n"
      ],
      "metadata": {
        "id": "3hd1zq8-kb4P",
        "colab": {
          "base_uri": "https://localhost:8080/"
        },
        "outputId": "667671f8-d46e-48db-f64c-e8744fead8f4"
      },
      "execution_count": 62,
      "outputs": [
        {
          "output_type": "execute_result",
          "data": {
            "text/plain": [
              "{'abc123': InMemoryChatMessageHistory(messages=[HumanMessage(content='What is Task Decomposition?', additional_kwargs={}, response_metadata={}), AIMessage(content='Task decomposition is the process of breaking down a complex task into smaller, more manageable sub-tasks or components. This approach helps to simplify the execution and understanding of the overall task, making it easier to tackle each part systematically. It is often used in project management, programming, and problem-solving to enhance efficiency and clarity.', additional_kwargs={}, response_metadata={}), HumanMessage(content='What is fungicide resistance management?', additional_kwargs={}, response_metadata={}), AIMessage(content='Fungicide resistance management involves strategies and practices aimed at preventing or reducing the development of resistance in fungal pathogens to fungicides. This includes applying fungicides only when necessary, using fungicides with different modes of action, following label recommendations, and integrating cultural practices such as growing resistant varieties and using disease-free seeds. The goal is to prolong the effectiveness of fungicides and minimize the selection pressure on pathogen populations.', additional_kwargs={}, response_metadata={}), HumanMessage(content='What are steps in fungicide resistance management?', additional_kwargs={}, response_metadata={}), AIMessage(content='The steps in fungicide resistance management include: \\n\\n1. Apply fungicides only when necessary, based on field scouting and disease risk factors.\\n2. Use fungicides with different modes of action and rotate them if multiple applications are needed in a season.\\n3. Grow resistant plant varieties, plant high-quality disease-free seeds, and provide a well-drained seedbed.\\n4. Follow label recommendations regarding application rates and restrictions.', additional_kwargs={}, response_metadata={}), HumanMessage(content='What is a prompt technique like step xyz?', additional_kwargs={}, response_metadata={}), AIMessage(content='The prompt technique, such as \"step xyz,\" typically refers to a structured approach for guiding a process or enhancing creativity by breaking down tasks into specific steps or prompts. Each step encourages focused thinking or action towards achieving a goal, solving a problem, or generating ideas. This technique can be helpful in various contexts, including writing, project planning, and brainstorming sessions.', additional_kwargs={}, response_metadata={}), HumanMessage(content='What is principle of plant disease control?', additional_kwargs={}, response_metadata={}), AIMessage(content='The principles of plant disease control involve strategies designed to prevent or minimize the impact of diseases on crops. Key principles include accurate diagnosis of the disease, using resistant plant varieties, implementing cultural practices (such as crop rotation and proper sanitation), and applying chemical controls like fungicides when necessary. Integrated Pest Management (IPM) is often emphasized, combining multiple approaches to achieve effective disease management while reducing negative environmental impacts.', additional_kwargs={}, response_metadata={})])}"
            ]
          },
          "metadata": {},
          "execution_count": 62
        }
      ]
    },
    {
      "cell_type": "code",
      "source": [
        "for message in store[\"abc123\"].messages:\n",
        "    if isinstance(message, AIMessage):\n",
        "        prefix = \"AI\"\n",
        "    else:\n",
        "        prefix = \"User\"\n",
        "\n",
        "    print(f\"{prefix}: {message.content}\\n\")"
      ],
      "metadata": {
        "colab": {
          "base_uri": "https://localhost:8080/"
        },
        "id": "539RefvEkdWG",
        "outputId": "af949e90-88a8-47f1-af82-58e28b33cde3"
      },
      "execution_count": 63,
      "outputs": [
        {
          "output_type": "stream",
          "name": "stdout",
          "text": [
            "User: What is Task Decomposition?\n",
            "\n",
            "AI: Task decomposition is the process of breaking down a complex task into smaller, more manageable sub-tasks or components. This approach helps to simplify the execution and understanding of the overall task, making it easier to tackle each part systematically. It is often used in project management, programming, and problem-solving to enhance efficiency and clarity.\n",
            "\n",
            "User: What is fungicide resistance management?\n",
            "\n",
            "AI: Fungicide resistance management involves strategies and practices aimed at preventing or reducing the development of resistance in fungal pathogens to fungicides. This includes applying fungicides only when necessary, using fungicides with different modes of action, following label recommendations, and integrating cultural practices such as growing resistant varieties and using disease-free seeds. The goal is to prolong the effectiveness of fungicides and minimize the selection pressure on pathogen populations.\n",
            "\n",
            "User: What are steps in fungicide resistance management?\n",
            "\n",
            "AI: The steps in fungicide resistance management include: \n",
            "\n",
            "1. Apply fungicides only when necessary, based on field scouting and disease risk factors.\n",
            "2. Use fungicides with different modes of action and rotate them if multiple applications are needed in a season.\n",
            "3. Grow resistant plant varieties, plant high-quality disease-free seeds, and provide a well-drained seedbed.\n",
            "4. Follow label recommendations regarding application rates and restrictions.\n",
            "\n",
            "User: What is a prompt technique like step xyz?\n",
            "\n",
            "AI: The prompt technique, such as \"step xyz,\" typically refers to a structured approach for guiding a process or enhancing creativity by breaking down tasks into specific steps or prompts. Each step encourages focused thinking or action towards achieving a goal, solving a problem, or generating ideas. This technique can be helpful in various contexts, including writing, project planning, and brainstorming sessions.\n",
            "\n",
            "User: What is principle of plant disease control?\n",
            "\n",
            "AI: The principles of plant disease control involve strategies designed to prevent or minimize the impact of diseases on crops. Key principles include accurate diagnosis of the disease, using resistant plant varieties, implementing cultural practices (such as crop rotation and proper sanitation), and applying chemical controls like fungicides when necessary. Integrated Pest Management (IPM) is often emphasized, combining multiple approaches to achieve effective disease management while reducing negative environmental impacts.\n",
            "\n"
          ]
        }
      ]
    },
    {
      "cell_type": "markdown",
      "source": [
        "My more queries to extend the explanation."
      ],
      "metadata": {
        "id": "ArMR0GdidanB"
      }
    },
    {
      "cell_type": "code",
      "source": [
        "conversational_rag_chain.invoke(\n",
        "    {\"input\": \"What are Alfalfa diseases that reduce yields in Illinois and the relative effectiveness of various control measures?\"},\n",
        "    config={\n",
        "        \"configurable\": {\"session_id\": \"abc123\"}\n",
        "    },\n",
        ")[\"answer\"]"
      ],
      "metadata": {
        "id": "PhYHKjgfkq6c",
        "colab": {
          "base_uri": "https://localhost:8080/",
          "height": 72
        },
        "outputId": "8665b944-b5e1-4577-92d5-444fb5afaae5"
      },
      "execution_count": 64,
      "outputs": [
        {
          "output_type": "execute_result",
          "data": {
            "text/plain": [
              "'Alfalfa diseases that reduce yields in Illinois include bacterial wilt, anthracnose, Phytophthora root rot, Fusarium wilt, and various fungal crown and root rots. Control measures vary in effectiveness, with the use of resistant varieties being the most economical and efficient method. Crop rotation, proper fertilization, timely cutting, and controlling insects and weeds are also recommended agronomic practices to manage these diseases.'"
            ],
            "application/vnd.google.colaboratory.intrinsic+json": {
              "type": "string"
            }
          },
          "metadata": {},
          "execution_count": 64
        }
      ]
    },
    {
      "cell_type": "code",
      "source": [
        "store"
      ],
      "metadata": {
        "colab": {
          "base_uri": "https://localhost:8080/"
        },
        "id": "jFKpVs0Pdtd1",
        "outputId": "49d5a821-9827-4f92-ea9f-60e2ec5af17a"
      },
      "execution_count": 65,
      "outputs": [
        {
          "output_type": "execute_result",
          "data": {
            "text/plain": [
              "{'abc123': InMemoryChatMessageHistory(messages=[HumanMessage(content='What is Task Decomposition?', additional_kwargs={}, response_metadata={}), AIMessage(content='Task decomposition is the process of breaking down a complex task into smaller, more manageable sub-tasks or components. This approach helps to simplify the execution and understanding of the overall task, making it easier to tackle each part systematically. It is often used in project management, programming, and problem-solving to enhance efficiency and clarity.', additional_kwargs={}, response_metadata={}), HumanMessage(content='What is fungicide resistance management?', additional_kwargs={}, response_metadata={}), AIMessage(content='Fungicide resistance management involves strategies and practices aimed at preventing or reducing the development of resistance in fungal pathogens to fungicides. This includes applying fungicides only when necessary, using fungicides with different modes of action, following label recommendations, and integrating cultural practices such as growing resistant varieties and using disease-free seeds. The goal is to prolong the effectiveness of fungicides and minimize the selection pressure on pathogen populations.', additional_kwargs={}, response_metadata={}), HumanMessage(content='What are steps in fungicide resistance management?', additional_kwargs={}, response_metadata={}), AIMessage(content='The steps in fungicide resistance management include: \\n\\n1. Apply fungicides only when necessary, based on field scouting and disease risk factors.\\n2. Use fungicides with different modes of action and rotate them if multiple applications are needed in a season.\\n3. Grow resistant plant varieties, plant high-quality disease-free seeds, and provide a well-drained seedbed.\\n4. Follow label recommendations regarding application rates and restrictions.', additional_kwargs={}, response_metadata={}), HumanMessage(content='What is a prompt technique like step xyz?', additional_kwargs={}, response_metadata={}), AIMessage(content='The prompt technique, such as \"step xyz,\" typically refers to a structured approach for guiding a process or enhancing creativity by breaking down tasks into specific steps or prompts. Each step encourages focused thinking or action towards achieving a goal, solving a problem, or generating ideas. This technique can be helpful in various contexts, including writing, project planning, and brainstorming sessions.', additional_kwargs={}, response_metadata={}), HumanMessage(content='What is principle of plant disease control?', additional_kwargs={}, response_metadata={}), AIMessage(content='The principles of plant disease control involve strategies designed to prevent or minimize the impact of diseases on crops. Key principles include accurate diagnosis of the disease, using resistant plant varieties, implementing cultural practices (such as crop rotation and proper sanitation), and applying chemical controls like fungicides when necessary. Integrated Pest Management (IPM) is often emphasized, combining multiple approaches to achieve effective disease management while reducing negative environmental impacts.', additional_kwargs={}, response_metadata={}), HumanMessage(content='What are Alfalfa diseases that reduce yields in Illinois and the relative effectiveness of various control measures?', additional_kwargs={}, response_metadata={}), AIMessage(content='Alfalfa diseases that reduce yields in Illinois include bacterial wilt, anthracnose, Phytophthora root rot, Fusarium wilt, and various fungal crown and root rots. Control measures vary in effectiveness, with the use of resistant varieties being the most economical and efficient method. Crop rotation, proper fertilization, timely cutting, and controlling insects and weeds are also recommended agronomic practices to manage these diseases.', additional_kwargs={}, response_metadata={})])}"
            ]
          },
          "metadata": {},
          "execution_count": 65
        }
      ]
    }
  ]
}